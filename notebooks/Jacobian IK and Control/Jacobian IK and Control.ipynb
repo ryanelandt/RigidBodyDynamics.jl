{
 "cells": [
  {
   "cell_type": "markdown",
   "metadata": {},
   "source": [
    "# Jacobian Transpose Inverse Kinematics and Control\n",
    "\n",
    "In this notebook, we'll demonstrate an extremely simple approach for computing basic inverse kinematics (IK) and controlling the position of some point on our robot using the Jacobian transpose. \n",
    "\n",
    "For a brief technical introduction, see <https://groups.csail.mit.edu/drl/journal_club/papers/033005/buss-2004.pdf> or <https://homes.cs.washington.edu/~todorov/courses/cseP590/06_JacobianMethods.pdf>"
   ]
  },
  {
   "cell_type": "code",
   "execution_count": 1,
   "metadata": {},
   "outputs": [
    {
     "name": "stdout",
     "output_type": "stream",
     "text": [
      "\u001b[32m\u001b[1m  Updating\u001b[22m\u001b[39m registry at `~/.julia/registries/General`\n",
      "\u001b[32m\u001b[1m  Updating\u001b[22m\u001b[39m git-repo `https://github.com/JuliaRegistries/General.git`\n",
      "\u001b[?25l\u001b[2K\u001b[?25h\u001b[32m\u001b[1mPrecompiling\u001b[22m\u001b[39m project...\n"
     ]
    }
   ],
   "source": [
    "using Pkg\n",
    "Pkg.activate(@__DIR__)\n",
    "pkg\"instantiate\"\n",
    "pkg\"precompile\""
   ]
  },
  {
   "cell_type": "code",
   "execution_count": 2,
   "metadata": {},
   "outputs": [],
   "source": [
    "using RigidBodyDynamics\n",
    "using StaticArrays\n",
    "\n",
    "# Fix the random seed, so we get repeatable results\n",
    "using Random\n",
    "Random.seed!(42);"
   ]
  },
  {
   "cell_type": "markdown",
   "metadata": {},
   "source": [
    "First we'll load our double pendulum robot from URDF:"
   ]
  },
  {
   "cell_type": "code",
   "execution_count": 3,
   "metadata": {},
   "outputs": [
    {
     "data": {
      "text/plain": [
       "Spanning tree:\n",
       "Vertex: world (root)\n",
       "  Vertex: upper_link, Edge: shoulder\n",
       "    Vertex: lower_link, Edge: elbow\n",
       "No non-tree joints."
      ]
     },
     "execution_count": 3,
     "metadata": {},
     "output_type": "execute_result"
    }
   ],
   "source": [
    "urdf = joinpath(dirname(pathof(RigidBodyDynamics)), \"..\", \"test\", \"urdf\", \"Acrobot.urdf\")\n",
    "mechanism = parse_urdf(urdf)\n",
    "state = MechanismState(mechanism)\n",
    "mechanism"
   ]
  },
  {
   "cell_type": "markdown",
   "metadata": {},
   "source": [
    "Now we choose a point on the robot to control. We'll pick the end of the second link, which is located 2m from the origin of the `lower_link` body:"
   ]
  },
  {
   "cell_type": "code",
   "execution_count": 4,
   "metadata": {},
   "outputs": [
    {
     "data": {
      "text/plain": [
       "Point3D in \"after_elbow\": [0.0, 0.0, -2.0]"
      ]
     },
     "execution_count": 4,
     "metadata": {},
     "output_type": "execute_result"
    }
   ],
   "source": [
    "body = findbody(mechanism, \"lower_link\")\n",
    "point = Point3D(default_frame(body), 0., 0, -2)"
   ]
  },
  {
   "cell_type": "markdown",
   "metadata": {},
   "source": [
    "Let's visualize the mechanism and its attached point. For visualization, we'll use [MeshCatMechanisms.jl](https://github.com/JuliaRobotics/MeshCatMechanisms.jl) with [Blink.jl](https://github.com/JunoLab/Blink.jl). \n",
    "\n",
    "(Note: the `#NBSKIP` comments are to skip these cells during `Pkg.test(\"RigidBodyDynamics\")`)"
   ]
  },
  {
   "cell_type": "code",
   "execution_count": 5,
   "metadata": {},
   "outputs": [
    {
     "name": "stdout",
     "output_type": "stream",
     "text": [
      "\u001b[32m\u001b[1m  Updating\u001b[22m\u001b[39m registry at `~/.julia/registries/General`\n",
      "\u001b[32m\u001b[1m  Updating\u001b[22m\u001b[39m git-repo `https://github.com/JuliaRegistries/General.git`\n",
      "\u001b[?25l\u001b[2K\u001b[?25h\u001b[32m\u001b[1mPrecompiling\u001b[22m\u001b[39m project...\n"
     ]
    },
    {
     "data": {
      "text/html": [
       "    <script class='js-collapse-script'>\n",
       "        var curMatch =\n",
       "            window.location.href\n",
       "            .match(/(.*?)\\/notebooks\\/.*\\.ipynb/);\n",
       "\n",
       "        curMatch = curMatch ||\n",
       "            window.location.href\n",
       "            .match(/(.*?)\\/apps\\/.*\\.ipynb/);\n",
       "\n",
       "        if ( curMatch ) {\n",
       "            $('head').append('<base href=\"' + curMatch[1] + '/\">');\n",
       "        }\n",
       "    </script>\n"
      ],
      "text/plain": [
       "HTML{String}(\"    <script class='js-collapse-script'>\\n        var curMatch =\\n            window.location.href\\n            .match(/(.*?)\\\\/notebooks\\\\/.*\\\\.ipynb/);\\n\\n        curMatch = curMatch ||\\n            window.location.href\\n            .match(/(.*?)\\\\/apps\\\\/.*\\\\.ipynb/);\\n\\n        if ( curMatch ) {\\n            \\$('head').append('<base href=\\\"' + curMatch[1] + '/\\\">');\\n        }\\n    </script>\\n\")"
      ]
     },
     "metadata": {},
     "output_type": "display_data"
    },
    {
     "data": {
      "text/html": [
       "<script class='js-collapse-script' src='/assetserver/25f9570346b69729e3f0d089746606f6943c897a-assets/webio/dist/bundle.js'></script>"
      ],
      "text/plain": [
       "HTML{String}(\"<script class='js-collapse-script' src='/assetserver/25f9570346b69729e3f0d089746606f6943c897a-assets/webio/dist/bundle.js'></script>\")"
      ]
     },
     "metadata": {},
     "output_type": "display_data"
    },
    {
     "data": {
      "text/html": [
       "<script class='js-collapse-script' src='/assetserver/25f9570346b69729e3f0d089746606f6943c897a-assets/providers/ijulia_setup.js'></script>"
      ],
      "text/plain": [
       "HTML{String}(\"<script class='js-collapse-script' src='/assetserver/25f9570346b69729e3f0d089746606f6943c897a-assets/providers/ijulia_setup.js'></script>\")"
      ]
     },
     "metadata": {},
     "output_type": "display_data"
    },
    {
     "data": {
      "text/html": [
       "  <script class='js-collapse-script'>\n",
       "    $('.js-collapse-script').parent('.output_subarea').css('padding', '0');\n",
       "  </script>\n"
      ],
      "text/plain": [
       "HTML{String}(\"  <script class='js-collapse-script'>\\n    \\$('.js-collapse-script').parent('.output_subarea').css('padding', '0');\\n  </script>\\n\")"
      ]
     },
     "metadata": {},
     "output_type": "display_data"
    }
   ],
   "source": [
    "#NBSKIP\n",
    "using Pkg\n",
    "Pkg.activate(joinpath(@__DIR__, \"visualization\"))\n",
    "pkg\"instantiate\"\n",
    "pkg\"precompile\"\n",
    "using MeshCatMechanisms, Blink\n",
    "Blink.AtomShell.isinstalled() || Blink.AtomShell.install();"
   ]
  },
  {
   "cell_type": "code",
   "execution_count": 6,
   "metadata": {},
   "outputs": [],
   "source": [
    "#NBSKIP\n",
    "# Create the visualizer\n",
    "vis = MechanismVisualizer(mechanism, URDFVisuals(urdf))\n",
    "# Render our target point attached to the robot as a sphere with radius 0.07\n",
    "setelement!(vis, point, 0.07)\n",
    "# Open the visualizer in a new Blink window\n",
    "open(vis, Window());"
   ]
  },
  {
   "cell_type": "markdown",
   "metadata": {},
   "source": [
    "## Inverse Kinematics\n",
    "\n",
    "First, let's use the point jacobian to solve a simple inverse kinematics problem. Given a target location `desired` expressed in world frame, we want to find the joint angles `q` such that the `point` attached to the robot is at the desired location. \n",
    "\n",
    "To do that, we'll iteratively update `q` by applying: \n",
    "\n",
    "\\begin{align}\n",
    "\\Delta q = \\alpha \\, J_p^\\top \\, \\Delta p\n",
    "\\end{align}\n",
    "\n",
    "where $\\alpha$ is our step size (equivalent to a learning rate in gradient descent) and $\\Delta p$ is the error in the position of our target point. "
   ]
  },
  {
   "cell_type": "code",
   "execution_count": 7,
   "metadata": {},
   "outputs": [
    {
     "data": {
      "text/plain": [
       "jacobian_transpose_ik! (generic function with 1 method)"
      ]
     },
     "execution_count": 7,
     "metadata": {},
     "output_type": "execute_result"
    }
   ],
   "source": [
    "function jacobian_transpose_ik!(state::MechanismState,\n",
    "                               body::RigidBody,\n",
    "                               point::Point3D,\n",
    "                               desired::Point3D;\n",
    "                               α=0.1,\n",
    "                               iterations=100)\n",
    "    mechanism = state.mechanism\n",
    "    world = root_frame(mechanism)\n",
    "    \n",
    "    # Compute the joint path from world to our target body\n",
    "    p = path(mechanism, root_body(mechanism), body)\n",
    "    # Allocate the point jacobian (we'll update this in-place later)\n",
    "    Jp = point_jacobian(state, p, transform(state, point, world))\n",
    "    \n",
    "    q = copy(configuration(state))\n",
    "    \n",
    "    for i in 1:iterations\n",
    "        # Update the position of the point\n",
    "        point_in_world = transform(state, point, world)\n",
    "        # Update the point's jacobian\n",
    "        point_jacobian!(Jp, state, p, point_in_world)\n",
    "        # Compute an update in joint coordinates using the jacobian transpose\n",
    "        Δq = α * Array(Jp)' * (transform(state, desired, world) - point_in_world).v\n",
    "        # Apply the update\n",
    "        q .= configuration(state) .+ Δq\n",
    "        set_configuration!(state, q)\n",
    "    end\n",
    "    state\n",
    "end"
   ]
  },
  {
   "cell_type": "markdown",
   "metadata": {},
   "source": [
    "To use our IK method, we just have to set our current state and choose a desired location for the tip of the robot's arm: "
   ]
  },
  {
   "cell_type": "code",
   "execution_count": 8,
   "metadata": {},
   "outputs": [],
   "source": [
    "rand!(state)"
   ]
  },
  {
   "cell_type": "code",
   "execution_count": 9,
   "metadata": {},
   "outputs": [],
   "source": [
    "#NBSKIP\n",
    "set_configuration!(vis, configuration(state))"
   ]
  },
  {
   "cell_type": "code",
   "execution_count": 10,
   "metadata": {},
   "outputs": [
    {
     "data": {
      "text/plain": [
       "MechanismState{Float64, Float64, Float64, …}(…)"
      ]
     },
     "execution_count": 10,
     "metadata": {},
     "output_type": "execute_result"
    }
   ],
   "source": [
    "# Choose a desired location. We'll move the tip of the arm to\n",
    "# [0.5, 0, 2]\n",
    "desired_tip_location = Point3D(root_frame(mechanism), 0.5, 0, 2)\n",
    "# Run the IK, updating `state` in place\n",
    "jacobian_transpose_ik!(state, body, point, desired_tip_location)"
   ]
  },
  {
   "cell_type": "code",
   "execution_count": 11,
   "metadata": {},
   "outputs": [],
   "source": [
    "#NBSKIP\n",
    "set_configuration!(vis, configuration(state))"
   ]
  },
  {
   "cell_type": "code",
   "execution_count": 12,
   "metadata": {},
   "outputs": [
    {
     "data": {
      "text/plain": [
       "Point3D in \"\": [0.49993, 0.25, 1.969]"
      ]
     },
     "execution_count": 12,
     "metadata": {},
     "output_type": "execute_result"
    }
   ],
   "source": [
    "# We asked for our point to be close to [0.5, 0, 2], \n",
    "# but since the arm cannot move in the y direction at all\n",
    "# we end up near [0.5, 0.25, 2] instead\n",
    "transform(state, point, root_frame(mechanism))"
   ]
  },
  {
   "cell_type": "markdown",
   "metadata": {},
   "source": [
    "We can try varying the target and watching the IK solution change:"
   ]
  },
  {
   "cell_type": "code",
   "execution_count": 13,
   "metadata": {},
   "outputs": [],
   "source": [
    "qs = typeof(configuration(state))[]\n",
    "\n",
    "# Vary the desired x position from -1 to 1\n",
    "for x in range(-1, stop=1, length=100)\n",
    "    desired = Point3D(root_frame(mechanism), x, 0, 2)\n",
    "    jacobian_transpose_ik!(state, body, point, desired)\n",
    "    push!(qs, copy(configuration(state)))\n",
    "end"
   ]
  },
  {
   "cell_type": "code",
   "execution_count": 14,
   "metadata": {},
   "outputs": [
    {
     "name": "stderr",
     "output_type": "stream",
     "text": [
      "┌ Warning: `getindex(itp::AbstractInterpolation{T, N}, i::Vararg{Number, N}) where {T, N}` is deprecated, use `itp(i...)` instead.\n",
      "│   caller = #setanimation!#4(::Int64, ::Bool, ::Int64, ::Function, ::MechanismVisualizer{MechanismState{Float64,Float64,Float64,TypeSortedCollections.TypeSortedCollection{Tuple{Array{Joint{Float64,Revolute{Float64}},1}},1}},MeshCat.Visualizer}, ::Array{Float64,1}, ::Array{SegmentedVector{JointID,Float64,Base.OneTo{JointID},Array{Float64,1}},1}) at animate.jl:46\n",
      "└ @ MeshCatMechanisms /home/twan/.julia/packages/MeshCatMechanisms/AHOtT/src/animate.jl:46\n"
     ]
    }
   ],
   "source": [
    "#NBSKIP\n",
    "ts = collect(range(0, stop=1, length=length(qs)))\n",
    "setanimation!(vis, ts, qs)"
   ]
  },
  {
   "cell_type": "markdown",
   "metadata": {},
   "source": [
    "## Control\n",
    "\n",
    "Now let's use the same principle to generate torques and actually control the robot. To make things more interesting, let's get the end of the robot's arm to trace out a circle. "
   ]
  },
  {
   "cell_type": "code",
   "execution_count": 15,
   "metadata": {},
   "outputs": [
    {
     "data": {
      "text/plain": [
       "1.0"
      ]
     },
     "execution_count": 15,
     "metadata": {},
     "output_type": "execute_result"
    }
   ],
   "source": [
    "circle_origin = SVector(0., 0.25, 2)\n",
    "radius = 0.5\n",
    "ω = 1.0  # radians per second at which the point should move in its circle"
   ]
  },
  {
   "cell_type": "code",
   "execution_count": 16,
   "metadata": {},
   "outputs": [],
   "source": [
    "#NBSKIP\n",
    "using MeshCat\n",
    "using GeometryTypes: Point"
   ]
  },
  {
   "cell_type": "code",
   "execution_count": 17,
   "metadata": {},
   "outputs": [
    {
     "data": {
      "text/plain": [
       "MeshCat Visualizer with path /meshcat/circle"
      ]
     },
     "execution_count": 17,
     "metadata": {},
     "output_type": "execute_result"
    }
   ],
   "source": [
    "#NBSKIP\n",
    "\n",
    "# Draw the circle in the viewer\n",
    "θ = repeat(range(0, stop=2π, length=100), inner=(2,))[2:end]\n",
    "cx, cy, cz = circle_origin\n",
    "geometry = PointCloud(Point.(cx .+ radius .* sin.(θ), cy, cz .+ 0.5 .* cos.(θ)))\n",
    "setobject!(vis[:circle], LineSegments(geometry, LineBasicMaterial()))"
   ]
  },
  {
   "cell_type": "code",
   "execution_count": 18,
   "metadata": {},
   "outputs": [
    {
     "data": {
      "text/plain": [
       "make_circle_controller (generic function with 1 method)"
      ]
     },
     "execution_count": 18,
     "metadata": {},
     "output_type": "execute_result"
    }
   ],
   "source": [
    "# This function will take in the parameters of the circle\n",
    "# and the target point and return a function we can use\n",
    "# as the controller. By wrapping the construction of the \n",
    "# controller in this way, we avoid any issues with accessing\n",
    "# non-const global variables. \n",
    "function make_circle_controller(state::MechanismState,\n",
    "                                body::RigidBody,\n",
    "                                point::Point3D,\n",
    "                                circle_origin::AbstractVector,\n",
    "                                radius,\n",
    "                                ω)\n",
    "    mechanism = state.mechanism\n",
    "    world = root_frame(mechanism)\n",
    "    joint_path = path(mechanism, root_body(mechanism), body)\n",
    "    Jp = point_jacobian(state, joint_path, transform(state, point, root_frame(mechanism)))\n",
    "    v̇ = similar(velocity(state))\n",
    "    \n",
    "    function controller!(τ, t, state)\n",
    "        desired = Point3D(world, circle_origin .+ radius .* SVector(sin(t / ω), 0, cos(t / ω)))\n",
    "        point_in_world = transform_to_root(state, body) * point\n",
    "        point_jacobian!(Jp, state, joint_path, point_in_world)\n",
    "        Kp = 200\n",
    "        Kd = 20\n",
    "        Δp = desired - point_in_world\n",
    "        v̇ .= Kp * Array(Jp)' * Δp.v .- 20 .* velocity(state)\n",
    "        τ .= inverse_dynamics(state, v̇)\n",
    "    end\n",
    "end"
   ]
  },
  {
   "cell_type": "code",
   "execution_count": 19,
   "metadata": {},
   "outputs": [
    {
     "data": {
      "text/plain": [
       "controller! (generic function with 1 method)"
      ]
     },
     "execution_count": 19,
     "metadata": {},
     "output_type": "execute_result"
    }
   ],
   "source": [
    "controller! = make_circle_controller(state, body, point, circle_origin, radius, ω)"
   ]
  },
  {
   "cell_type": "code",
   "execution_count": 20,
   "metadata": {},
   "outputs": [],
   "source": [
    "ts, qs, vs = simulate(state, 10, controller!);"
   ]
  },
  {
   "cell_type": "markdown",
   "metadata": {},
   "source": [
    "Animate the resulting trajectory:"
   ]
  },
  {
   "cell_type": "code",
   "execution_count": 21,
   "metadata": {},
   "outputs": [],
   "source": [
    "#NBSKIP\n",
    "setanimation!(vis, ts, qs)"
   ]
  },
  {
   "cell_type": "markdown",
   "metadata": {},
   "source": [
    "Now we can plot the behavior of the controller. The initial state is quite far from the target, so there's some significant overshoot early in the trajectory, but the controller eventually settles into tracking the desired circular path. This controller isn't very well-tuned, and we could certainly do better with a more advanced approach, but this is still a nice demonstration of a very simple control policy. "
   ]
  },
  {
   "cell_type": "code",
   "execution_count": 22,
   "metadata": {},
   "outputs": [
    {
     "data": {
      "text/plain": [
       "Plots.GRBackend()"
      ]
     },
     "execution_count": 22,
     "metadata": {},
     "output_type": "execute_result"
    }
   ],
   "source": [
    "#NBSKIP\n",
    "using Plots; gr()"
   ]
  },
  {
   "cell_type": "code",
   "execution_count": 23,
   "metadata": {},
   "outputs": [
    {
     "data": {
      "image/svg+xml": [
       "<?xml version=\"1.0\" encoding=\"utf-8\"?>\n",
       "<svg xmlns=\"http://www.w3.org/2000/svg\" xmlns:xlink=\"http://www.w3.org/1999/xlink\" width=\"600\" height=\"400\" viewBox=\"0 0 2400 1600\">\n",
       "<defs>\n",
       "  <clipPath id=\"clip9900\">\n",
       "    <rect x=\"0\" y=\"0\" width=\"2000\" height=\"2000\"/>\n",
       "  </clipPath>\n",
       "</defs>\n",
       "<defs>\n",
       "  <clipPath id=\"clip9901\">\n",
       "    <rect x=\"0\" y=\"0\" width=\"2400\" height=\"1600\"/>\n",
       "  </clipPath>\n",
       "</defs>\n",
       "<polygon clip-path=\"url(#clip9901)\" points=\"\n",
       "0,1600 2400,1600 2400,0 0,0 \n",
       "  \" fill=\"#ffffff\" fill-opacity=\"1\"/>\n",
       "<defs>\n",
       "  <clipPath id=\"clip9902\">\n",
       "    <rect x=\"480\" y=\"0\" width=\"1681\" height=\"1600\"/>\n",
       "  </clipPath>\n",
       "</defs>\n",
       "<polygon clip-path=\"url(#clip9901)\" points=\"\n",
       "513.212,1503.47 1969.44,1503.47 1969.44,47.2441 513.212,47.2441 \n",
       "  \" fill=\"#ffffff\" fill-opacity=\"1\"/>\n",
       "<defs>\n",
       "  <clipPath id=\"clip9903\">\n",
       "    <rect x=\"513\" y=\"47\" width=\"1457\" height=\"1457\"/>\n",
       "  </clipPath>\n",
       "</defs>\n",
       "<polyline clip-path=\"url(#clip9903)\" style=\"stroke:#000000; stroke-width:2; stroke-opacity:0.1; fill:none\" points=\"\n",
       "  513.212,1503.47 513.212,47.2441 \n",
       "  \"/>\n",
       "<polyline clip-path=\"url(#clip9903)\" style=\"stroke:#000000; stroke-width:2; stroke-opacity:0.1; fill:none\" points=\"\n",
       "  877.269,1503.47 877.269,47.2441 \n",
       "  \"/>\n",
       "<polyline clip-path=\"url(#clip9903)\" style=\"stroke:#000000; stroke-width:2; stroke-opacity:0.1; fill:none\" points=\"\n",
       "  1241.33,1503.47 1241.33,47.2441 \n",
       "  \"/>\n",
       "<polyline clip-path=\"url(#clip9903)\" style=\"stroke:#000000; stroke-width:2; stroke-opacity:0.1; fill:none\" points=\"\n",
       "  1605.38,1503.47 1605.38,47.2441 \n",
       "  \"/>\n",
       "<polyline clip-path=\"url(#clip9903)\" style=\"stroke:#000000; stroke-width:2; stroke-opacity:0.1; fill:none\" points=\"\n",
       "  1969.44,1503.47 1969.44,47.2441 \n",
       "  \"/>\n",
       "<polyline clip-path=\"url(#clip9903)\" style=\"stroke:#000000; stroke-width:2; stroke-opacity:0.1; fill:none\" points=\"\n",
       "  513.212,1503.47 1969.44,1503.47 \n",
       "  \"/>\n",
       "<polyline clip-path=\"url(#clip9903)\" style=\"stroke:#000000; stroke-width:2; stroke-opacity:0.1; fill:none\" points=\"\n",
       "  513.212,1139.42 1969.44,1139.42 \n",
       "  \"/>\n",
       "<polyline clip-path=\"url(#clip9903)\" style=\"stroke:#000000; stroke-width:2; stroke-opacity:0.1; fill:none\" points=\"\n",
       "  513.212,775.359 1969.44,775.359 \n",
       "  \"/>\n",
       "<polyline clip-path=\"url(#clip9903)\" style=\"stroke:#000000; stroke-width:2; stroke-opacity:0.1; fill:none\" points=\"\n",
       "  513.212,411.302 1969.44,411.302 \n",
       "  \"/>\n",
       "<polyline clip-path=\"url(#clip9903)\" style=\"stroke:#000000; stroke-width:2; stroke-opacity:0.1; fill:none\" points=\"\n",
       "  513.212,47.2441 1969.44,47.2441 \n",
       "  \"/>\n",
       "<polyline clip-path=\"url(#clip9901)\" style=\"stroke:#000000; stroke-width:4; stroke-opacity:1; fill:none\" points=\"\n",
       "  513.212,1503.47 1969.44,1503.47 \n",
       "  \"/>\n",
       "<polyline clip-path=\"url(#clip9901)\" style=\"stroke:#000000; stroke-width:4; stroke-opacity:1; fill:none\" points=\"\n",
       "  513.212,1503.47 513.212,47.2441 \n",
       "  \"/>\n",
       "<polyline clip-path=\"url(#clip9901)\" style=\"stroke:#000000; stroke-width:4; stroke-opacity:1; fill:none\" points=\"\n",
       "  513.212,1503.47 513.212,1481.63 \n",
       "  \"/>\n",
       "<polyline clip-path=\"url(#clip9901)\" style=\"stroke:#000000; stroke-width:4; stroke-opacity:1; fill:none\" points=\"\n",
       "  877.269,1503.47 877.269,1481.63 \n",
       "  \"/>\n",
       "<polyline clip-path=\"url(#clip9901)\" style=\"stroke:#000000; stroke-width:4; stroke-opacity:1; fill:none\" points=\"\n",
       "  1241.33,1503.47 1241.33,1481.63 \n",
       "  \"/>\n",
       "<polyline clip-path=\"url(#clip9901)\" style=\"stroke:#000000; stroke-width:4; stroke-opacity:1; fill:none\" points=\"\n",
       "  1605.38,1503.47 1605.38,1481.63 \n",
       "  \"/>\n",
       "<polyline clip-path=\"url(#clip9901)\" style=\"stroke:#000000; stroke-width:4; stroke-opacity:1; fill:none\" points=\"\n",
       "  1969.44,1503.47 1969.44,1481.63 \n",
       "  \"/>\n",
       "<polyline clip-path=\"url(#clip9901)\" style=\"stroke:#000000; stroke-width:4; stroke-opacity:1; fill:none\" points=\"\n",
       "  513.212,1503.47 535.055,1503.47 \n",
       "  \"/>\n",
       "<polyline clip-path=\"url(#clip9901)\" style=\"stroke:#000000; stroke-width:4; stroke-opacity:1; fill:none\" points=\"\n",
       "  513.212,1139.42 535.055,1139.42 \n",
       "  \"/>\n",
       "<polyline clip-path=\"url(#clip9901)\" style=\"stroke:#000000; stroke-width:4; stroke-opacity:1; fill:none\" points=\"\n",
       "  513.212,775.359 535.055,775.359 \n",
       "  \"/>\n",
       "<polyline clip-path=\"url(#clip9901)\" style=\"stroke:#000000; stroke-width:4; stroke-opacity:1; fill:none\" points=\"\n",
       "  513.212,411.302 535.055,411.302 \n",
       "  \"/>\n",
       "<polyline clip-path=\"url(#clip9901)\" style=\"stroke:#000000; stroke-width:4; stroke-opacity:1; fill:none\" points=\"\n",
       "  513.212,47.2441 535.055,47.2441 \n",
       "  \"/>\n",
       "<g clip-path=\"url(#clip9901)\">\n",
       "<text style=\"fill:#000000; fill-opacity:1; font-family:Arial,Helvetica Neue,Helvetica,sans-serif; font-size:48; text-anchor:middle;\" transform=\"rotate(0, 513.212, 1557.47)\" x=\"513.212\" y=\"1557.47\">-1.0</text>\n",
       "</g>\n",
       "<g clip-path=\"url(#clip9901)\">\n",
       "<text style=\"fill:#000000; fill-opacity:1; font-family:Arial,Helvetica Neue,Helvetica,sans-serif; font-size:48; text-anchor:middle;\" transform=\"rotate(0, 877.269, 1557.47)\" x=\"877.269\" y=\"1557.47\">-0.5</text>\n",
       "</g>\n",
       "<g clip-path=\"url(#clip9901)\">\n",
       "<text style=\"fill:#000000; fill-opacity:1; font-family:Arial,Helvetica Neue,Helvetica,sans-serif; font-size:48; text-anchor:middle;\" transform=\"rotate(0, 1241.33, 1557.47)\" x=\"1241.33\" y=\"1557.47\">0.0</text>\n",
       "</g>\n",
       "<g clip-path=\"url(#clip9901)\">\n",
       "<text style=\"fill:#000000; fill-opacity:1; font-family:Arial,Helvetica Neue,Helvetica,sans-serif; font-size:48; text-anchor:middle;\" transform=\"rotate(0, 1605.38, 1557.47)\" x=\"1605.38\" y=\"1557.47\">0.5</text>\n",
       "</g>\n",
       "<g clip-path=\"url(#clip9901)\">\n",
       "<text style=\"fill:#000000; fill-opacity:1; font-family:Arial,Helvetica Neue,Helvetica,sans-serif; font-size:48; text-anchor:middle;\" transform=\"rotate(0, 1969.44, 1557.47)\" x=\"1969.44\" y=\"1557.47\">1.0</text>\n",
       "</g>\n",
       "<g clip-path=\"url(#clip9901)\">\n",
       "<text style=\"fill:#000000; fill-opacity:1; font-family:Arial,Helvetica Neue,Helvetica,sans-serif; font-size:48; text-anchor:end;\" transform=\"rotate(0, 489.212, 1520.97)\" x=\"489.212\" y=\"1520.97\">1.0</text>\n",
       "</g>\n",
       "<g clip-path=\"url(#clip9901)\">\n",
       "<text style=\"fill:#000000; fill-opacity:1; font-family:Arial,Helvetica Neue,Helvetica,sans-serif; font-size:48; text-anchor:end;\" transform=\"rotate(0, 489.212, 1156.92)\" x=\"489.212\" y=\"1156.92\">1.5</text>\n",
       "</g>\n",
       "<g clip-path=\"url(#clip9901)\">\n",
       "<text style=\"fill:#000000; fill-opacity:1; font-family:Arial,Helvetica Neue,Helvetica,sans-serif; font-size:48; text-anchor:end;\" transform=\"rotate(0, 489.212, 792.859)\" x=\"489.212\" y=\"792.859\">2.0</text>\n",
       "</g>\n",
       "<g clip-path=\"url(#clip9901)\">\n",
       "<text style=\"fill:#000000; fill-opacity:1; font-family:Arial,Helvetica Neue,Helvetica,sans-serif; font-size:48; text-anchor:end;\" transform=\"rotate(0, 489.212, 428.802)\" x=\"489.212\" y=\"428.802\">2.5</text>\n",
       "</g>\n",
       "<g clip-path=\"url(#clip9901)\">\n",
       "<text style=\"fill:#000000; fill-opacity:1; font-family:Arial,Helvetica Neue,Helvetica,sans-serif; font-size:48; text-anchor:end;\" transform=\"rotate(0, 489.212, 64.7441)\" x=\"489.212\" y=\"64.7441\">3.0</text>\n",
       "</g>\n",
       "<polyline clip-path=\"url(#clip9903)\" style=\"stroke:#009af9; stroke-width:4; stroke-opacity:1; fill:none\" points=\"\n",
       "  1969.43,775.389 1921.91,760.342 1773.67,729.334 1569.78,711.255 1360.24,720.4 1185.61,748.647 1067.64,776.144 1011.29,786.146 1011.79,772.758 1059.49,740.601 \n",
       "  1140.94,700.038 1239.15,661.386 1335.52,630.698 1413.5,608.793 1462.07,593.245 1477.49,581.306 1462.86,571.658 1426.34,564.297 1378.65,559.407 1330.51,556.41 \n",
       "  1290.68,553.897 1264.73,550.27 1254.86,544.494 1260.23,536.48 1277.66,526.956 1302.55,517.02 1329.79,507.658 1354.72,499.47 1373.87,492.645 1385.36,487.099 \n",
       "  1389.01,482.644 1386.05,479.082 1378.68,476.217 1369.47,473.836 1360.86,471.707 1354.74,469.614 1352.23,467.405 1353.62,465.025 1358.5,462.517 1365.92,459.99 \n",
       "  1374.67,457.573 1383.54,455.376 1391.5,453.467 1397.87,451.871 1402.37,450.58 1405.1,449.563 1406.44,448.778 1406.94,448.176 1407.2,447.711 1407.76,447.342 \n",
       "  1409,447.04 1411.1,446.79 1414.1,446.588 1417.82,446.443 1422.04,446.371 1426.46,446.386 1430.81,446.5 1434.88,446.72 1438.54,447.045 1441.76,447.473 \n",
       "  1444.58,447.997 1447.1,448.607 1449.45,449.296 1451.77,450.054 1454.16,450.875 1456.71,451.756 1459.45,452.693 1462.37,453.686 1465.42,454.736 1468.55,455.843 \n",
       "  1471.7,457.01 1474.8,458.234 1477.81,459.518 1480.71,460.859 1483.5,462.257 1486.17,463.709 1488.77,465.213 1491.31,466.768 1493.84,468.372 1496.36,470.024 \n",
       "  1498.9,471.722 1501.45,473.466 1504.03,475.256 1506.61,477.091 1509.19,478.97 1511.75,480.892 1514.28,482.858 1516.77,484.867 1519.2,486.917 1521.59,489.009 \n",
       "  1523.94,491.141 1526.24,493.314 1528.51,495.525 1530.75,497.775 1532.97,500.062 1535.17,502.388 1537.34,504.75 1539.5,507.148 1541.63,509.583 1543.74,512.052 \n",
       "  1545.82,514.557 1547.87,517.096 1549.88,519.669 1551.86,522.275 1553.8,524.914 1555.7,527.585 1557.57,530.288 1559.41,533.022 1561.21,535.787 1562.99,538.582 \n",
       "  1564.73,541.407 1566.44,544.262 1568.11,547.145 1569.76,550.057 1571.37,552.996 1572.95,555.963 1574.5,558.957 1576.01,561.978 1577.48,565.024 1578.92,568.096 \n",
       "  1580.33,571.193 1581.69,574.314 1583.03,577.459 1584.32,580.628 1585.58,583.82 1586.81,587.034 1588,590.27 1589.15,593.528 1590.27,596.807 1591.35,600.107 \n",
       "  1592.4,603.426 1593.41,606.766 1594.38,610.124 1595.32,613.501 1596.22,616.896 1597.08,620.309 1597.91,623.738 1598.69,627.185 1599.44,630.647 1600.16,634.125 \n",
       "  1600.83,637.618 1601.47,641.126 1602.07,644.648 1602.64,648.184 1603.16,651.733 1603.65,655.294 1604.1,658.868 1604.52,662.453 1604.89,666.05 1605.23,669.657 \n",
       "  1605.53,673.274 1605.79,676.902 1606.01,680.538 1606.2,684.183 1606.35,687.837 1606.46,691.498 1606.53,695.167 1606.56,698.843 1606.56,702.525 1606.52,706.213 \n",
       "  1606.44,709.907 1606.32,713.605 1606.17,717.308 1605.97,721.016 1605.74,724.727 1605.47,728.441 1605.17,732.158 1604.82,735.877 1604.44,739.598 1604.02,743.321 \n",
       "  1603.57,747.045 1603.07,750.769 1602.54,754.494 1601.97,758.218 1601.36,761.942 1600.72,765.664 1600.04,769.385 1599.32,773.104 1598.57,776.821 1597.78,780.536 \n",
       "  1596.95,784.247 1596.08,787.955 1595.18,791.658 1594.24,795.358 1593.27,799.053 1592.26,802.743 1591.21,806.428 1590.13,810.107 1589.01,813.78 1587.86,817.447 \n",
       "  1586.67,821.106 1585.44,824.759 1584.18,828.404 1582.89,832.042 1581.56,835.671 1580.19,839.292 1578.79,842.904 1577.36,846.507 1575.89,850.1 1574.38,853.684 \n",
       "  1572.85,857.257 1571.28,860.821 1569.67,864.373 1568.03,867.915 1566.36,871.445 1564.66,874.964 1562.92,878.471 1561.15,881.966 1559.35,885.448 1557.51,888.918 \n",
       "  1555.65,892.375 1553.75,895.818 1551.82,899.248 1549.86,902.665 1547.87,906.067 1545.85,909.455 1543.79,912.829 1541.71,916.188 1539.6,919.532 1537.45,922.861 \n",
       "  1535.28,926.174 1533.08,929.472 1530.85,932.753 1528.59,936.019 1526.3,939.268 1523.98,942.501 1521.64,945.717 1519.26,948.916 1516.86,952.098 1514.44,955.262 \n",
       "  1511.98,958.409 1509.5,961.538 1507,964.649 1504.47,967.742 1501.91,970.817 1499.33,973.873 1496.72,976.91 1494.09,979.929 1491.44,982.928 1488.76,985.909 \n",
       "  1486.05,988.869 1483.33,991.811 1480.58,994.732 1477.81,997.634 1475.02,1000.52 1472.2,1003.38 1469.37,1006.22 1466.51,1009.04 1463.63,1011.84 1460.73,1014.62 \n",
       "  1457.82,1017.37 1454.88,1020.11 1451.93,1022.83 1448.95,1025.52 1445.96,1028.19 1442.95,1030.84 1439.92,1033.47 1436.88,1036.08 1433.82,1038.67 1430.74,1041.23 \n",
       "  1427.65,1043.77 1424.54,1046.29 1421.42,1048.78 1418.28,1051.25 1415.13,1053.7 1411.96,1056.13 1408.78,1058.53 1405.59,1060.91 1402.39,1063.27 1399.17,1065.6 \n",
       "  1395.95,1067.91 1392.71,1070.19 1389.46,1072.45 1386.2,1074.69 1382.93,1076.9 1379.66,1079.09 1376.37,1081.25 1373.07,1083.39 1369.77,1085.5 1366.46,1087.59 \n",
       "  1363.15,1089.65 1359.82,1091.69 1356.49,1093.7 1353.16,1095.69 1349.82,1097.65 1346.47,1099.58 1343.12,1101.49 1339.77,1103.37 1336.41,1105.23 1333.05,1107.05 \n",
       "  1329.69,1108.86 1326.33,1110.63 1322.96,1112.38 1319.59,1114.1 1316.23,1115.79 1312.86,1117.45 1309.49,1119.09 1306.12,1120.69 1302.76,1122.27 1299.39,1123.82 \n",
       "  1296.03,1125.35 1292.66,1126.84 1289.31,1128.3 1285.95,1129.73 1282.6,1131.14 1279.25,1132.51 1275.9,1133.85 1272.56,1135.16 1269.23,1136.45 1265.9,1137.7 \n",
       "  1262.57,1138.92 1259.25,1140.1 1255.94,1141.26 1252.63,1142.38 1249.33,1143.47 1246.04,1144.53 1242.76,1145.56 1239.48,1146.55 1236.21,1147.51 1232.95,1148.43 \n",
       "  1229.7,1149.32 1226.46,1150.18 1223.23,1151 1220,1151.79 1216.79,1152.54 1213.59,1153.25 1210.39,1153.93 1207.21,1154.57 1204.04,1155.18 1200.88,1155.75 \n",
       "  1197.73,1156.28 1194.59,1156.77 1191.46,1157.23 1188.34,1157.65 1185.24,1158.03 1182.15,1158.37 1179.07,1158.67 1176,1158.93 1172.94,1159.15 1169.9,1159.34 \n",
       "  1166.87,1159.48 1163.85,1159.58 1160.84,1159.64 1157.85,1159.65 1154.87,1159.63 1151.9,1159.56 1148.95,1159.46 1146,1159.3 1143.08,1159.11 1140.16,1158.87 \n",
       "  1137.26,1158.59 1134.37,1158.27 1131.49,1157.9 1128.62,1157.49 1125.77,1157.03 1122.94,1156.53 1120.11,1155.98 1117.3,1155.39 1114.5,1154.75 1111.71,1154.06 \n",
       "  1108.94,1153.33 1106.18,1152.56 1103.43,1151.74 1100.69,1150.87 1097.97,1149.95 1095.26,1148.99 1092.56,1147.98 1089.88,1146.92 1087.21,1145.82 1084.55,1144.67 \n",
       "  1081.9,1143.47 1079.26,1142.23 1076.64,1140.94 1074.03,1139.6 1071.43,1138.21 1068.84,1136.78 1066.27,1135.3 1063.71,1133.77 1061.16,1132.2 1058.62,1130.57 \n",
       "  1056.1,1128.91 1053.59,1127.19 1051.09,1125.43 1048.6,1123.62 1046.12,1121.76 1043.66,1119.86 1041.21,1117.92 1038.77,1115.92 1036.35,1113.89 1033.94,1111.8 \n",
       "  1031.54,1109.68 1029.15,1107.5 1026.78,1105.29 1024.42,1103.03 1022.08,1100.72 1019.74,1098.38 1017.43,1095.99 1015.12,1093.56 1012.83,1091.09 1010.56,1088.57 \n",
       "  1008.3,1086.02 1006.05,1083.42 1003.83,1080.79 1001.61,1078.11 999.414,1075.4 997.233,1072.65 995.068,1069.86 992.921,1067.04 990.79,1064.18 988.677,1061.28 \n",
       "  986.582,1058.35 984.506,1055.38 982.448,1052.38 980.409,1049.34 978.39,1046.28 976.39,1043.18 974.411,1040.05 972.452,1036.88 970.515,1033.69 968.599,1030.47 \n",
       "  966.705,1027.22 964.833,1023.95 962.984,1020.64 961.158,1017.31 959.356,1013.96 957.578,1010.58 955.824,1007.17 954.096,1003.74 952.393,1000.29 950.715,996.811 \n",
       "  949.064,993.313 947.439,989.795 945.841,986.256 944.271,982.697 942.728,979.12 941.214,975.524 939.728,971.91 938.271,968.279 936.843,964.631 935.446,960.967 \n",
       "  934.078,957.289 932.741,953.595 931.434,949.888 930.159,946.167 928.915,942.433 927.703,938.687 926.522,934.929 925.374,931.16 924.259,927.381 923.177,923.592 \n",
       "  922.128,919.793 921.112,915.985 920.13,912.168 919.182,908.344 918.268,904.512 917.388,900.674 916.543,896.829 915.732,892.978 914.957,889.121 914.217,885.26 \n",
       "  913.512,881.394 912.842,877.524 912.208,873.65 911.61,869.773 911.047,865.894 910.521,862.011 910.03,858.127 909.576,854.242 909.158,850.355 908.776,846.468 \n",
       "  908.431,842.58 908.122,838.692 907.85,834.805 907.615,830.918 907.416,827.033 907.254,823.149 907.128,819.267 907.04,815.388 906.988,811.511 906.973,807.636 \n",
       "  906.994,803.766 907.053,799.898 907.148,796.035 907.28,792.176 907.449,788.322 907.654,784.473 907.896,780.629 908.175,776.79 908.49,772.958 908.842,769.131 \n",
       "  909.231,765.311 909.655,761.499 910.117,757.693 910.614,753.895 911.148,750.104 911.718,746.322 912.324,742.548 912.966,738.782 913.644,735.026 914.358,731.279 \n",
       "  915.107,727.541 915.892,723.813 916.713,720.095 917.569,716.388 918.46,712.692 919.387,709.006 920.348,705.332 921.344,701.669 922.376,698.018 923.441,694.379 \n",
       "  924.542,690.753 925.676,687.139 926.845,683.538 928.049,679.95 929.286,676.376 930.556,672.816 931.861,669.269 933.199,665.737 934.57,662.219 935.975,658.716 \n",
       "  937.412,655.228 938.882,651.756 940.385,648.299 941.921,644.857 943.488,641.432 945.088,638.023 946.72,634.631 948.383,631.256 950.078,627.897 951.805,624.556 \n",
       "  953.562,621.233 955.351,617.927 957.17,614.639 959.02,611.37 960.9,608.119 962.811,604.887 964.751,601.674 966.721,598.48 968.721,595.305 970.75,592.151 \n",
       "  972.808,589.016 974.894,585.901 977.01,582.807 979.154,579.733 981.326,576.68 983.526,573.648 985.753,570.637 988.009,567.648 990.291,564.68 992.6,561.735 \n",
       "  994.936,558.811 997.299,555.91 999.688,553.031 1002.1,550.175 1004.54,547.341 1007.01,544.531 1009.5,541.744 1012.02,538.981 1014.56,536.241 1017.12,533.525 \n",
       "  1019.71,530.833 1022.33,528.166 1024.97,525.523 1027.63,522.904 1030.31,520.31 1033.02,517.742 1035.75,515.198 1038.5,512.68 1041.27,510.187 1044.07,507.72 \n",
       "  1046.89,505.278 1049.72,502.863 1052.58,500.474 1055.46,498.111 1058.36,495.775 1061.28,493.465 1064.22,491.182 1067.18,488.926 1070.16,486.697 1073.16,484.496 \n",
       "  1076.17,482.321 1079.21,480.175 1082.26,478.056 1085.33,475.965 1088.42,473.902 1091.52,471.867 1094.65,469.86 1097.78,467.882 1100.94,465.932 1104.11,464.011 \n",
       "  1107.29,462.119 1110.49,460.255 1113.71,458.421 1116.94,456.616 1120.18,454.84 1123.44,453.094 1126.71,451.377 1130,449.69 1133.3,448.032 1136.61,446.405 \n",
       "  1139.93,444.807 1143.27,443.24 1146.62,441.702 1149.98,440.195 1153.35,438.719 1156.73,437.273 1160.12,435.858 1163.52,434.473 1166.93,433.12 1170.35,431.797 \n",
       "  1173.78,430.505 1177.22,429.244 1180.67,428.015 1184.12,426.817 1187.59,425.651 1191.06,424.515 1194.54,423.412 1198.02,422.34 1201.51,421.3 1205.01,420.292 \n",
       "  1208.51,419.316 1212.02,418.371 1215.53,417.459 1219.05,416.579 1222.57,415.731 1226.1,414.916 1229.63,414.133 1233.17,413.383 1236.7,412.665 1240.24,411.979 \n",
       "  1243.78,411.327 1247.33,410.707 1250.87,410.12 1254.42,409.566 1257.97,409.045 1261.52,408.557 1265.06,408.102 1268.61,407.68 1272.16,407.291 1275.71,406.936 \n",
       "  1279.26,406.614 1282.8,406.325 1286.34,406.07 1289.88,405.849 1293.42,405.661 1296.96,405.506 1300.49,405.386 1304.02,405.299 1307.54,405.246 1311.06,405.226 \n",
       "  1314.58,405.241 1318.09,405.289 1321.59,405.372 1325.09,405.488 1328.58,405.639 1332.07,405.823 1335.55,406.042 1339.02,406.295 1342.49,406.582 1345.94,406.904 \n",
       "  1349.39,407.259 1352.83,407.649 1356.26,408.074 1359.69,408.533 1363.1,409.026 1366.5,409.553 1369.89,410.115 1373.27,410.712 1376.64,411.343 1380,412.008 \n",
       "  1383.35,412.708 1386.68,413.443 1390,414.212 1393.31,415.016 1396.61,415.854 1399.89,416.727 1403.15,417.634 1406.41,418.576 1409.65,419.553 1412.87,420.564 \n",
       "  1416.08,421.61 1419.27,422.69 1422.45,423.805 1425.6,424.955 1428.75,426.139 1431.87,427.357 1434.98,428.61 1438.07,429.897 1441.14,431.219 1444.19,432.575 \n",
       "  1447.23,433.965 1450.24,435.39 1453.24,436.848 1456.21,438.341 1459.17,439.869 1462.1,441.43 1465.02,443.025 1467.91,444.654 1470.78,446.317 1473.62,448.014 \n",
       "  1476.45,449.744 1479.25,451.508 1482.03,453.306 1484.79,455.136 1487.52,457.001 1490.23,458.898 1492.92,460.829 1495.58,462.792 1498.21,464.788 1500.82,466.817 \n",
       "  1503.41,468.879 1505.96,470.973 1508.5,473.099 1511,475.257 1513.48,477.448 1515.93,479.67 1518.36,481.924 1520.75,484.209 1523.12,486.525 1525.46,488.873 \n",
       "  1527.78,491.252 1530.06,493.661 1532.31,496.1 1534.54,498.57 1536.73,501.07 1538.9,503.6 1541.03,506.159 1543.14,508.747 1545.21,511.365 1547.26,514.011 \n",
       "  1549.27,516.686 1551.25,519.389 1553.2,522.12 1555.11,524.879 1557,527.666 1558.85,530.479 1560.67,533.319 1562.46,536.186 1564.21,539.079 1565.94,541.998 \n",
       "  1567.62,544.942 1569.28,547.912 1570.9,550.906 1572.48,553.925 1574.04,556.968 1575.55,560.035 1577.04,563.126 1578.49,566.239 1579.9,569.375 1581.28,572.534 \n",
       "  1582.62,575.714 1583.93,578.916 1585.2,582.139 1586.44,585.383 1587.64,588.647 1588.81,591.932 1589.94,595.235 1591.03,598.558 1592.09,601.9 1593.11,605.26 \n",
       "  1594.09,608.637 1595.04,612.033 1595.95,615.445 1596.82,618.873 1597.66,622.318 1598.46,625.779 1599.22,629.254 1599.94,632.745 1600.63,636.25 1601.28,639.768 \n",
       "  1601.89,643.3 1602.47,646.846 1603.01,650.403 1603.51,653.973 1603.97,657.555 1604.39,661.147 1604.78,664.751 1605.13,668.364 1605.44,671.988 1605.71,675.62 \n",
       "  1605.95,679.262 1606.15,682.912 1606.31,686.57 1606.43,690.236 1606.51,693.909 1606.56,697.588 1606.57,701.274 1606.54,704.966 1606.47,708.662 1606.37,712.364 \n",
       "  1606.22,716.07 1606.04,719.78 1605.82,723.494 1605.57,727.21 1605.27,730.93 1604.94,734.652 1604.57,738.375 1604.16,742.1 1603.72,745.826 1603.23,749.553 \n",
       "  1602.71,753.279 1602.16,757.006 1601.56,760.731 1600.93,764.456 1600.26,768.179 1599.56,771.901 1598.81,775.62 1598.03,779.336 1597.22,783.05 1596.36,786.76 \n",
       "  1595.47,790.466 1594.55,794.168 1593.58,797.866 1592.58,801.558 1591.55,805.245 1590.48,808.927 1589.37,812.603 1588.23,816.272 1587.05,819.935 1585.84,823.59 \n",
       "  1584.59,827.238 1583.3,830.879 1581.98,834.511 1580.63,838.135 1579.24,841.75 1577.82,845.356 1576.36,848.953 1574.87,852.54 1573.34,856.117 1571.78,859.684 \n",
       "  1570.19,863.24 1568.56,866.786 1566.9,870.32 1565.2,873.842 1563.48,877.353 1561.72,880.852 1559.93,884.339 1558.1,887.813 1556.25,891.274 1554.36,894.722 \n",
       "  1552.44,898.156 1550.49,901.577 1548.51,904.984 1546.49,908.377 1544.45,911.755 1542.38,915.119 1540.27,918.468 1538.14,921.801 1535.97,925.12 1533.78,928.422 \n",
       "  1531.56,931.709 1529.31,934.98 1527.03,938.235 1524.72,941.473 1522.39,944.694 1520.02,947.899 1517.63,951.086 1515.21,954.256 1512.77,957.408 1510.3,960.543 \n",
       "  1507.8,963.66 1505.28,966.759 1502.73,969.839 1500.15,972.901 1497.55,975.945 1494.93,978.969 1492.28,981.975 1489.61,984.961 1486.92,987.928 1484.2,990.876 \n",
       "  1481.46,993.804 1478.69,996.712 1475.91,999.6 1473.1,1002.47 1470.27,1005.31 1467.42,1008.14 1464.55,1010.95 1461.66,1013.73 1458.75,1016.5 1455.82,1019.24 \n",
       "  1452.87,1021.96 1449.9,1024.67 1446.91,1027.34 1443.91,1030 1440.89,1032.64 1437.85,1035.25 1434.79,1037.84 1431.72,1040.41 1428.63,1042.96 1425.53,1045.49 \n",
       "  1422.41,1047.99 1419.28,1050.47 1416.13,1052.92 1412.97,1055.36 1409.8,1057.77 1406.61,1060.15 1403.41,1062.52 1400.2,1064.86 1396.98,1067.17 1393.74,1069.47 \n",
       "  1390.5,1071.73 1387.24,1073.98 1383.98,1076.2 1380.7,1078.39 1377.42,1080.56 1374.13,1082.71 1370.83,1084.83 1367.52,1086.93 1364.2,1089 1360.88,1091.04 \n",
       "  1357.55,1093.06 1354.22,1095.06 1350.88,1097.03 1347.54,1098.97 1344.19,1100.89 1340.84,1102.77 1337.48,1104.64 1334.12,1106.48 1330.76,1108.28 1327.4,1110.07 \n",
       "  1324.03,1111.82 1320.67,1113.55 1317.3,1115.25 1313.93,1116.92 1310.56,1118.57 1307.19,1120.19 1303.83,1121.77 1300.46,1123.33 1297.1,1124.86 1293.73,1126.37 \n",
       "  1290.38,1127.84 1287.02,1129.28 1283.66,1130.69 1280.31,1132.08 1276.97,1133.43 1273.63,1134.75 1270.29,1136.04 1266.96,1137.3 1263.63,1138.53 1260.31,1139.73 \n",
       "  1256.99,1140.89 1253.69,1142.03 1250.38,1143.13 1247.09,1144.2 1243.8,1145.23 1240.52,1146.24 1237.25,1147.21 1233.99,1148.14 1230.74,1149.04 1227.49,1149.91 \n",
       "  1224.26,1150.74 1221.03,1151.54 1217.81,1152.3 1214.61,1153.03 1211.41,1153.72 1208.22,1154.37 1205.05,1154.99 1201.88,1155.57 1198.73,1156.11 1195.59,1156.62 \n",
       "  1192.45,1157.09 1189.33,1157.52 1186.23,1157.91 1183.13,1158.26 1180.05,1158.58 1176.97,1158.85 1173.91,1159.09 1170.87,1159.28 1167.83,1159.44 1164.81,1159.55 \n",
       "  1161.8,1159.62 1158.8,1159.65 1155.82,1159.64 1152.84,1159.59 1149.89,1159.5 1146.94,1159.36 1144.01,1159.18 1141.09,1158.95 1138.18,1158.69 1135.29,1158.38 \n",
       "  1132.4,1158.02 1129.54,1157.62 1126.68,1157.18 1123.84,1156.69 1121.01,1156.16 1118.19,1155.58 1115.39,1154.96 1112.6,1154.29 1109.82,1153.57 1107.06,1152.81 \n",
       "  1104.3,1152 1101.56,1151.15 1098.84,1150.25 1096.12,1149.3 1093.42,1148.31 1090.73,1147.27 1088.06,1146.18 1085.39,1145.04 1082.74,1143.86 1080.1,1142.63 \n",
       "  1077.47,1141.35 \n",
       "  \"/>\n",
       "</svg>\n"
      ]
     },
     "execution_count": 23,
     "metadata": {},
     "output_type": "execute_result"
    }
   ],
   "source": [
    "#NBSKIP\n",
    "xs = Float64[]\n",
    "zs = Float64[]\n",
    "for q in qs[1:100:end]  # Downsample by 100 just so the plot doesn't become a huge file\n",
    "    set_configuration!(state, q)\n",
    "    p = transform(state, point, root_frame(mechanism))\n",
    "    push!(xs, p.v[1])\n",
    "    push!(zs, p.v[3])\n",
    "end\n",
    "\n",
    "plot(xs, zs, xlim=(-1, 1), ylim=(1, 3), aspect_ratio=:equal, legend=nothing)"
   ]
  },
  {
   "cell_type": "code",
   "execution_count": null,
   "metadata": {},
   "outputs": [],
   "source": []
  }
 ],
 "metadata": {
  "kernelspec": {
   "display_name": "Julia 1.0.0",
   "language": "julia",
   "name": "julia-1.0"
  },
  "language_info": {
   "file_extension": ".jl",
   "mimetype": "application/julia",
   "name": "julia",
   "version": "1.0.0"
  }
 },
 "nbformat": 4,
 "nbformat_minor": 2
}
